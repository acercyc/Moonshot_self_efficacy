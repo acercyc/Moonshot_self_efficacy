{
 "cells": [
  {
   "cell_type": "code",
   "execution_count": 1,
   "metadata": {},
   "outputs": [],
   "source": [
    "import numpy as np\n",
    "import matplotlib.pyplot as plt\n"
   ]
  },
  {
   "cell_type": "code",
   "execution_count": 143,
   "metadata": {},
   "outputs": [],
   "source": [
    "class PIDController:\n",
    "    def __init__(self, Kp, Ki, Kd, K=1):\n",
    "        self.Kp = Kp\n",
    "        self.Ki = Ki\n",
    "        self.Kd = Kd\n",
    "        self.K = K\n",
    "        self.prev_error = 0\n",
    "        self.sum_error = 0\n",
    "\n",
    "    def update(self, x, setpoint, dt):\n",
    "        error = setpoint - x\n",
    "        error_p = error * self.Kp\n",
    "        error_i = self.sum_error + error * self.Ki * dt\n",
    "        error_d = self.Kd * (error - self.prev_error) / dt\n",
    "\n",
    "        control = error_p + error_i + error_d\n",
    "\n",
    "        self.prev_error = error\n",
    "        self.sum_error = error_i\n",
    "\n",
    "        return control * self.K"
   ]
  },
  {
   "cell_type": "code",
   "execution_count": 144,
   "metadata": {},
   "outputs": [],
   "source": [
    "# test PID\n",
    "n = 1000\n",
    "start_y = 0\n",
    "end_y = 1\n",
    "path_y = np.linspace(start_y, end_y, n)\n",
    "path_x = np.zeros(n)\n",
    "\n"
   ]
  },
  {
   "cell_type": "code",
   "execution_count": 151,
   "metadata": {},
   "outputs": [
    {
     "data": {
      "text/plain": [
       "(0.0, 1.0)"
      ]
     },
     "execution_count": 151,
     "metadata": {},
     "output_type": "execute_result"
    },
    {
     "data": {
      "image/png": "[encoded data removed]",
      "text/plain": [
       "<Figure size 500x500 with 1 Axes>"
      ]
     },
     "metadata": {},
     "output_type": "display_data"
    }
   ],
   "source": [
    "Kp, Ki, Kd = 0.1, 0.01, 0.001\n",
    "start_x = 0.3\n",
    "vy = 1/60\n",
    "\n",
    "\n",
    "PID = PIDController(Kp, Ki, Kd, 1)\n",
    "x = start_x\n",
    "xs = [start_x]\n",
    "ys = [start_y]\n",
    "# start path tracking\n",
    "while True:\n",
    "    y = ys[-1] + vy\n",
    "    if y >= end_y:\n",
    "        break\n",
    "    \n",
    "    target_x = np.interp(y, path_y, path_x)\n",
    "    control = PID.update(x, target_x, vy)\n",
    "    x += control\n",
    "    # x, error, _ = pid_assistance(x, target_x, errors[-1], np.array(errors).sum(), Kp, Ki, Kd)\n",
    "\n",
    "    xs.append(x)\n",
    "    ys.append(y)\n",
    "\n",
    "# plot \n",
    "plt.figure(figsize=(5, 5))\n",
    "plt.plot(path_x, path_y, 'k')\n",
    "plt.plot(xs, ys, 'r')\n",
    "plt.xlim([-0.5, 0.5])\n",
    "plt.ylim([0, 1])\n"
   ]
  }
 ],
 "metadata": {
  "kernelspec": {
   "display_name": "psychopy",
   "language": "python",
   "name": "python3"
  },
  "language_info": {
   "codemirror_mode": {
    "name": "ipython",
    "version": 3
   },
   "file_extension": ".py",
   "mimetype": "text/x-python",
   "name": "python",
   "nbconvert_exporter": "python",
   "pygments_lexer": "ipython3",
   "version": "3.8.18"
  }
 },
 "nbformat": 4,
 "nbformat_minor": 2
}
